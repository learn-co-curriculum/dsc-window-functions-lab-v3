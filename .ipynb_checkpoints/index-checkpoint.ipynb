{
 "cells": [
  {
   "cell_type": "markdown",
   "metadata": {},
   "source": [
    "# Window Functions Lab\n",
    "\n",
    "## Introduction\n",
    "\n",
    "In this lab, we'll try to answer questions with the given dataset. [Description](https://ride.capitalbikeshare.com/system-data) to the dataset is here. We'll be using Capital Bikeshare trip dataset. \n",
    "\n",
    "## Objectives\n",
    "- Understand how & when to use window functions"
   ]
  },
  {
   "cell_type": "markdown",
   "metadata": {},
   "source": [
    "1. First, open up the attached csv file in the data folder. Examine the data, and create a table called `bikeshare` using SQL DDL."
   ]
  },
  {
   "cell_type": "code",
   "execution_count": null,
   "metadata": {},
   "outputs": [],
   "source": [
    "# Your solution"
   ]
  },
  {
   "cell_type": "markdown",
   "metadata": {},
   "source": [
    "Once the table is created, follow below step to import csv file into the sqlite database.\n",
    "\n",
    "```\n",
    "sqlite> .mode csv\n",
    "sqlite>.import <absolute_path_to_csv_file> bikeshare\n",
    "```\n",
    "If you're unsure of the absolute path of the csv file, navigate to the directory from your terminal/shell, then type `pwd`. It should yield something like this:\n",
    "```\n",
    "(learn-env) ➜  Downloads pwd\n",
    "/Users/myUserName/Downloads\n",
    "(learn-env) ➜  Downloads \n",
    "```\n",
    "Once the csv file is imported, execute the following command to see if you're able to fetch the data.\n",
    "```\n",
    "SELECT * FROM bikeshare LIMIT 10;\n",
    "```"
   ]
  },
  {
   "cell_type": "markdown",
   "metadata": {},
   "source": [
    "2. We're interested in the average bike ride from a specific starting station. We also want to order by the start time. How can we achieve this using window function?"
   ]
  },
  {
   "cell_type": "code",
   "execution_count": 1,
   "metadata": {},
   "outputs": [],
   "source": [
    "# Your solution"
   ]
  },
  {
   "cell_type": "code",
   "execution_count": null,
   "metadata": {},
   "outputs": [],
   "source": [
    "# __SOLUTION__\n",
    "SELECT start_station, duration, AVG(duration) OVER\n",
    "(PARTITION BY start_station ORDER BY start_time DESC) AS average_duration\n",
    "FROM bikeshare;"
   ]
  },
  {
   "cell_type": "markdown",
   "metadata": {},
   "source": [
    "3. How can we see how many rides were taken from each starting station?"
   ]
  },
  {
   "cell_type": "code",
   "execution_count": null,
   "metadata": {},
   "outputs": [],
   "source": [
    "# Your solution"
   ]
  },
  {
   "cell_type": "code",
   "execution_count": null,
   "metadata": {},
   "outputs": [],
   "source": [
    "# __SOLUTION__\n",
    "SELECT start_station, COUNT(*) OVER (PARTITION BY start_station) AS cnt\n",
    "FROM bikeshare;"
   ]
  },
  {
   "cell_type": "markdown",
   "metadata": {},
   "source": [
    "4. How can we get which starting station was most popular? Could we get top 10?"
   ]
  },
  {
   "cell_type": "code",
   "execution_count": null,
   "metadata": {},
   "outputs": [],
   "source": [
    "# Your solution"
   ]
  },
  {
   "cell_type": "code",
   "execution_count": null,
   "metadata": {},
   "outputs": [],
   "source": [
    "# __SOLUTION__\n",
    "SELECT start_station RANK() OVER (PARTITION BY start_station) AS rank\n",
    "FROM bikeshare LIMIT 10;"
   ]
  },
  {
   "cell_type": "markdown",
   "metadata": {},
   "source": [
    "Try the above question with `DENSE_RANK()` to see if you get different answers!"
   ]
  }
 ],
 "metadata": {
  "kernelspec": {
   "display_name": "Python 3",
   "language": "python",
   "name": "python3"
  },
  "language_info": {
   "codemirror_mode": {
    "name": "ipython",
    "version": 3
   },
   "file_extension": ".py",
   "mimetype": "text/x-python",
   "name": "python",
   "nbconvert_exporter": "python",
   "pygments_lexer": "ipython3",
   "version": "3.8.5"
  }
 },
 "nbformat": 4,
 "nbformat_minor": 4
}
